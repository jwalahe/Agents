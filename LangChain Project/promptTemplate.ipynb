{
 "cells": [
  {
   "cell_type": "code",
   "execution_count": 10,
   "id": "2edabe4d",
   "metadata": {},
   "outputs": [],
   "source": [
    "import os\n",
    "from openai import OpenAI\n",
    "from dotenv import load_dotenv, find_dotenv\n",
    "_ = load_dotenv(find_dotenv())\n",
    "client = OpenAI(api_key=os.environ['OPENAI_API_KEY'])"
   ]
  },
  {
   "cell_type": "code",
   "execution_count": 11,
   "id": "d0796b0e",
   "metadata": {},
   "outputs": [],
   "source": [
    "import datetime\n",
    "# Get the current date\n",
    "current_date = datetime.datetime.now().date()"
   ]
  },
  {
   "cell_type": "code",
   "execution_count": 12,
   "id": "9874e228",
   "metadata": {},
   "outputs": [
    {
     "name": "stdout",
     "output_type": "stream",
     "text": [
      "Available OpenAI models:\n",
      "- gpt-4-0613\n",
      "- gpt-4\n",
      "- gpt-3.5-turbo\n",
      "- gpt-4o-audio-preview-2025-06-03\n",
      "- gpt-4.1-nano\n",
      "- gpt-image-1\n",
      "- codex-mini-latest\n",
      "- gpt-4o-realtime-preview-2025-06-03\n",
      "- davinci-002\n",
      "- babbage-002\n",
      "- gpt-3.5-turbo-instruct\n",
      "- gpt-3.5-turbo-instruct-0914\n",
      "- dall-e-3\n",
      "- dall-e-2\n",
      "- gpt-4-1106-preview\n",
      "- gpt-3.5-turbo-1106\n",
      "- tts-1-hd\n",
      "- tts-1-1106\n",
      "- tts-1-hd-1106\n",
      "- text-embedding-3-small\n",
      "- text-embedding-3-large\n",
      "- gpt-4-0125-preview\n",
      "- gpt-4-turbo-preview\n",
      "- gpt-3.5-turbo-0125\n",
      "- gpt-4-turbo\n",
      "- gpt-4-turbo-2024-04-09\n",
      "- gpt-4o\n",
      "- gpt-4o-2024-05-13\n",
      "- gpt-4o-mini-2024-07-18\n",
      "- gpt-4o-mini\n",
      "- gpt-4o-2024-08-06\n",
      "- chatgpt-4o-latest\n",
      "- o1-preview-2024-09-12\n",
      "- o1-preview\n",
      "- o1-mini-2024-09-12\n",
      "- o1-mini\n",
      "- gpt-4o-realtime-preview-2024-10-01\n",
      "- gpt-4o-audio-preview-2024-10-01\n",
      "- gpt-4o-audio-preview\n",
      "- gpt-4o-realtime-preview\n",
      "- omni-moderation-latest\n",
      "- omni-moderation-2024-09-26\n",
      "- gpt-4o-realtime-preview-2024-12-17\n",
      "- gpt-4o-audio-preview-2024-12-17\n",
      "- gpt-4o-mini-realtime-preview-2024-12-17\n",
      "- gpt-4o-mini-audio-preview-2024-12-17\n",
      "- o1-2024-12-17\n",
      "- o1\n",
      "- gpt-4o-mini-realtime-preview\n",
      "- gpt-4o-mini-audio-preview\n",
      "- computer-use-preview\n",
      "- o3-mini\n",
      "- o3-mini-2025-01-31\n",
      "- gpt-4o-2024-11-20\n",
      "- gpt-4.5-preview\n",
      "- gpt-4.5-preview-2025-02-27\n",
      "- computer-use-preview-2025-03-11\n",
      "- gpt-4o-search-preview-2025-03-11\n",
      "- gpt-4o-search-preview\n",
      "- gpt-4o-mini-search-preview-2025-03-11\n",
      "- gpt-4o-mini-search-preview\n",
      "- gpt-4o-transcribe\n",
      "- gpt-4o-mini-transcribe\n",
      "- o1-pro-2025-03-19\n",
      "- o1-pro\n",
      "- gpt-4o-mini-tts\n",
      "- o4-mini-2025-04-16\n",
      "- o4-mini\n",
      "- gpt-4.1-2025-04-14\n",
      "- gpt-4.1\n",
      "- gpt-4.1-mini-2025-04-14\n",
      "- gpt-4.1-mini\n",
      "- gpt-4.1-nano-2025-04-14\n",
      "- gpt-3.5-turbo-16k\n",
      "- tts-1\n",
      "- whisper-1\n",
      "- text-embedding-ada-002\n"
     ]
    }
   ],
   "source": [
    "models = client.models.list()\n",
    "\n",
    "# Print all available models\n",
    "print(\"Available OpenAI models:\")\n",
    "for model in models.data:\n",
    "    print(f\"- {model.id}\")\n"
   ]
  },
  {
   "cell_type": "code",
   "execution_count": 4,
   "id": "747cdd1e",
   "metadata": {},
   "outputs": [],
   "source": [
    "llm_model = \"o4-mini-2025-04-16\""
   ]
  },
  {
   "cell_type": "code",
   "execution_count": 24,
   "id": "c074152e",
   "metadata": {},
   "outputs": [],
   "source": [
    "def get_completion(prompt, model=llm_model):\n",
    "    messages = [\n",
    "        {\"role\": \"user\", \n",
    "         \"content\": prompt}\n",
    "         ]\n",
    "    response = client.chat.completions.create(\n",
    "        model=model,\n",
    "        messages=messages,\n",
    "    )\n",
    "    return response.choices[0].message.content"
   ]
  },
  {
   "cell_type": "code",
   "execution_count": 25,
   "id": "e9962dfc",
   "metadata": {},
   "outputs": [
    {
     "data": {
      "text/plain": [
       "'Roughly speaking, the Ackermann function is a two‐argument function  \\nA(m,n)  \\nthat grows so fast in m (even faster than any fixed tower of exponentials) that it eventually out-paces every primitive‐recursive function.  Its inverse, usually written α(n), undoes that super-fast growth—but because A grows so wildly, the inverse ends up growing unbelievably slowly.\\n\\n1.  A very brief sketch of the (classic) Ackermann–Péter definition  \\n   •  A(0,n) = n+1  \\n   •  A(m+1,0) = A(m,1)  \\n   •  A(m+1,n+1) = A(m, A(m+1,n))  \\n   \\n   For example:  \\n   –  A(1,n) = n+2  (so A(1,5)=7)  \\n   –  A(2,n) = 2n+3 (linear in n)  \\n   –  A(3,n) is roughly 2^(n+3)−3 (exponential)  \\n   –  A(4,n) is a tower of 2’s of height about n, and so on.  \\n\\n2.  Defining its inverse α(n)  \\n   Since A(m,n) grows faster in m than any “reasonable” function of n, you can ask: “Given a big number N, how large does m have to be so that A(m, something) ≥ N?”  That minimal m is the inverse Ackermann α(N).  More formally one common variant is  \\n   \\n   α(N) = the smallest k ≥ 1 for which A(k,⌊N⌋) ≥ N.  \\n   \\n   (There are a few equivalent technical ways to pin down the exact base cases and the second argument of A, but they all lead to the same qualitative behavior.)\\n\\n3.  Why it matters in algorithms  \\n   In the analysis of the union-find (disjoint–set) data structure with union by rank and path compression, one can show that doing M operations on N elements takes   \\n     O(M\\u2009·\\u2009α(N))  \\n   time.  Since for any conceivable N (even N up to 10^80 or beyond) α(N) never exceeds about 4 or 5, we effectively treat α(N) as a “tiny constant.”  \\n\\n4.  Intuition for its slowness  \\n   –  Compare to iterated logarithm log*\\u2009N (the number of times you must apply log₂ before you drop below 1): log*\\u2009N grows very slowly (about 5 for N≈10^30).  \\n   –  α(N) grows even more slowly than log*\\u2009N—so slowly that for all practical N it’s ≤\\u20094 or 5.  \\n\\nSummary  \\nThe inverse Ackermann function α(N) is the “undo” of a ridiculously fast‐growing function.  Because Ackermann shoots upward so quickly, its inverse comes in almost flat—so flat that in many data‐structure bounds you can say “O(α(N))” and treat it like a constant.'"
      ]
     },
     "execution_count": 25,
     "metadata": {},
     "output_type": "execute_result"
    }
   ],
   "source": [
    "get_completion(\"What is Inverse Ackemann Function? Explain in simple terms to a college level phd student.\")"
   ]
  }
 ],
 "metadata": {
  "kernelspec": {
   "display_name": ".venv",
   "language": "python",
   "name": "python3"
  },
  "language_info": {
   "codemirror_mode": {
    "name": "ipython",
    "version": 3
   },
   "file_extension": ".py",
   "mimetype": "text/x-python",
   "name": "python",
   "nbconvert_exporter": "python",
   "pygments_lexer": "ipython3",
   "version": "3.9.1"
  }
 },
 "nbformat": 4,
 "nbformat_minor": 5
}
